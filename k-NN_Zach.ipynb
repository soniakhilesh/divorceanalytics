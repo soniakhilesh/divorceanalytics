{
 "cells": [
  {
   "cell_type": "code",
   "execution_count": 1,
   "metadata": {},
   "outputs": [],
   "source": [
    "import pandas as pd\n",
    "from sklearn.model_selection import train_test_split\n",
    "from sklearn.preprocessing import MinMaxScaler\n",
    "from kNN import kNNClassifier\n",
    "from sklearn.neighbors import KNeighborsClassifier"
   ]
  },
  {
   "cell_type": "markdown",
   "metadata": {},
   "source": [
    "# Use only top 5 features (according to random forest feature importances)"
   ]
  },
  {
   "cell_type": "code",
   "execution_count": 2,
   "metadata": {},
   "outputs": [
    {
     "name": "stdout",
     "output_type": "stream",
     "text": [
      "(N, p) = (50, 5)\n"
     ]
    }
   ],
   "source": [
    "# Load divore dataset\n",
    "df = pd.read_csv('divorce.csv', delimiter=';')\n",
    "y = df.Class\n",
    "X = df.drop(columns='Class')\n",
    "\n",
    "# Use only the top 5 features\n",
    "X = X[['Atr18','Atr11','Atr17','Atr40','Atr19']]\n",
    "\n",
    "X_train, X_test, y_train, y_test = train_test_split(X, y, train_size=50, random_state=0)\n",
    "print(\"(N, p) =\", X_train.shape)\n",
    "\n",
    "# Apply scaling to X_train and X_test\n",
    "scaler = MinMaxScaler()\n",
    "index = X_train.index\n",
    "columns = X_train.columns\n",
    "data = scaler.fit_transform(X_train)\n",
    "X_train = pd.DataFrame(data=data, index=index, columns=columns)\n",
    "index = X_test.index\n",
    "data = scaler.transform(X_test)\n",
    "X_test = pd.DataFrame(data=data, index=index, columns=columns)"
   ]
  },
  {
   "cell_type": "code",
   "execution_count": 3,
   "metadata": {},
   "outputs": [
    {
     "data": {
      "text/plain": [
       "(1.0, 0.975)"
      ]
     },
     "execution_count": 3,
     "metadata": {},
     "output_type": "execute_result"
    }
   ],
   "source": [
    "sklearn_kNN = KNeighborsClassifier()\n",
    "sklearn_kNN.fit(X_train,y_train)\n",
    "sklearn_kNN.score(X_train,y_train), sklearn_kNN.score(X_test,y_test)"
   ]
  },
  {
   "cell_type": "code",
   "execution_count": 4,
   "metadata": {},
   "outputs": [
    {
     "name": "stdout",
     "output_type": "stream",
     "text": [
      "Using license file /home/zach/gurobi.lic\n",
      "Academic license - for non-commercial use only\n",
      "Parameter LogToConsole unchanged\n",
      "   Value: 1  Min: 0  Max: 1  Default: 1\n",
      "Changed value of parameter MIPGap to 0.01\n",
      "   Prev: 0.0001  Min: 0.0  Max: inf  Default: 0.0001\n",
      "Gurobi Optimizer version 9.0.1 build v9.0.1rc0 (linux64)\n",
      "Optimize a model with 127901 rows, 127705 columns and 687873 nonzeros\n",
      "Model fingerprint: 0xa11a1759\n",
      "Variable types: 105 continuous, 127600 integer (127600 binary)\n",
      "Coefficient statistics:\n",
      "  Matrix range     [6e-02, 4e+01]\n",
      "  Objective range  [1e+00, 1e+00]\n",
      "  Bounds range     [1e+00, 1e+00]\n",
      "  RHS range        [1e+00, 5e+00]\n",
      "Presolve removed 65814 rows and 65840 columns (presolve time = 5s) ...\n",
      "Presolve removed 65814 rows and 65840 columns\n",
      "Presolve time: 5.10s\n",
      "Presolved: 62087 rows, 61865 columns, 359870 nonzeros\n",
      "Variable types: 5 continuous, 61860 integer (61788 binary)\n",
      "\n",
      "Deterministic concurrent LP optimizer: primal and dual simplex\n",
      "Showing first log only...\n",
      "\n",
      "\n",
      "Root simplex log...\n",
      "\n",
      "Iteration    Objective       Primal Inf.    Dual Inf.      Time\n",
      "       0    2.6000000e+01   7.154518e+01   2.762413e+08      6s\n",
      "     711    5.0000000e+01   0.000000e+00   0.000000e+00      6s\n",
      "     711    5.0000000e+01   0.000000e+00   0.000000e+00      6s\n",
      "Concurrent spin time: 0.03s\n",
      "\n",
      "Solved with primal simplex\n",
      "\n",
      "Root relaxation: objective 5.000000e+01, 711 iterations, 0.42 seconds\n",
      "\n",
      "    Nodes    |    Current Node    |     Objective Bounds      |     Work\n",
      " Expl Unexpl |  Obj  Depth IntInf | Incumbent    BestBd   Gap | It/Node Time\n",
      "\n",
      "     0     0   50.00000    0 1108          -   50.00000      -     -   24s\n",
      "H    0     0                      50.0000000   50.00000  0.00%     -   35s\n",
      "\n",
      "Cutting planes:\n",
      "  Gomory: 1\n",
      "  Cover: 152\n",
      "  Implied bound: 1\n",
      "  Clique: 63\n",
      "  MIR: 118\n",
      "  StrongCG: 21\n",
      "  RLT: 85\n",
      "  Relax-and-lift: 6\n",
      "\n",
      "Explored 1 nodes (10605 simplex iterations) in 52.87 seconds\n",
      "Thread count was 8 (of 8 available processors)\n",
      "\n",
      "Solution count 1: 50 \n",
      "\n",
      "Optimal solution found (tolerance 1.00e-02)\n",
      "Best objective 5.000000000000e+01, best bound 5.000000000000e+01, gap 0.0000%\n"
     ]
    },
    {
     "data": {
      "text/plain": [
       "(1.0, 0.975)"
      ]
     },
     "execution_count": 4,
     "metadata": {},
     "output_type": "execute_result"
    }
   ],
   "source": [
    "kNN = kNNClassifier(gurobi_MIPGap=0.01, gurobi_TimeLimit=None, gurobi_LogToConsole=1)\n",
    "kNN.fit(X_train,y_train)\n",
    "kNN.score(X_train,y_train), kNN.score(X_test,y_test)"
   ]
  },
  {
   "cell_type": "code",
   "execution_count": 5,
   "metadata": {},
   "outputs": [
    {
     "data": {
      "text/plain": [
       "{0: 1.0, 1: 0.0, 2: 0.0, 3: 0.0, 4: 0.0}"
      ]
     },
     "execution_count": 5,
     "metadata": {},
     "output_type": "execute_result"
    }
   ],
   "source": [
    "kNN.weights_"
   ]
  },
  {
   "cell_type": "markdown",
   "metadata": {},
   "source": [
    "# Using top 10 features"
   ]
  },
  {
   "cell_type": "code",
   "execution_count": 6,
   "metadata": {},
   "outputs": [
    {
     "name": "stdout",
     "output_type": "stream",
     "text": [
      "(N, p) = (50, 10)\n"
     ]
    }
   ],
   "source": [
    "# Load divore dataset\n",
    "df = pd.read_csv('divorce.csv', delimiter=';')\n",
    "y = df.Class\n",
    "X = df.drop(columns='Class')\n",
    "\n",
    "# Now use the top 10 features\n",
    "X = X[['Atr18','Atr11','Atr17','Atr40','Atr19','Atr20','Atr9','Atr16','Atr26','Atr25']]\n",
    "\n",
    "X_train, X_test, y_train, y_test = train_test_split(X, y, train_size=50, random_state=0)\n",
    "print(\"(N, p) =\", X_train.shape)\n",
    "\n",
    "# Apply scaling to X_train and X_test\n",
    "scaler = MinMaxScaler()\n",
    "index = X_train.index\n",
    "columns = X_train.columns\n",
    "data = scaler.fit_transform(X_train)\n",
    "X_train = pd.DataFrame(data=data, index=index, columns=columns)\n",
    "index = X_test.index\n",
    "data = scaler.transform(X_test)\n",
    "X_test = pd.DataFrame(data=data, index=index, columns=columns)"
   ]
  },
  {
   "cell_type": "code",
   "execution_count": 7,
   "metadata": {},
   "outputs": [
    {
     "data": {
      "text/plain": [
       "(0.98, 0.975)"
      ]
     },
     "execution_count": 7,
     "metadata": {},
     "output_type": "execute_result"
    }
   ],
   "source": [
    "sklearn_kNN = KNeighborsClassifier()\n",
    "sklearn_kNN.fit(X_train,y_train)\n",
    "sklearn_kNN.score(X_train,y_train), sklearn_kNN.score(X_test,y_test)"
   ]
  },
  {
   "cell_type": "code",
   "execution_count": 8,
   "metadata": {},
   "outputs": [
    {
     "name": "stdout",
     "output_type": "stream",
     "text": [
      "Parameter LogToConsole unchanged\n",
      "   Value: 1  Min: 0  Max: 1  Default: 1\n",
      "Changed value of parameter MIPGap to 0.01\n",
      "   Prev: 0.0001  Min: 0.0  Max: inf  Default: 0.0001\n",
      "Gurobi Optimizer version 9.0.1 build v9.0.1rc0 (linux64)\n",
      "Optimize a model with 127901 rows, 127710 columns and 1106554 nonzeros\n",
      "Model fingerprint: 0x923d4ce6\n",
      "Variable types: 110 continuous, 127600 integer (127600 binary)\n",
      "Coefficient statistics:\n",
      "  Matrix range     [6e-02, 4e+01]\n",
      "  Objective range  [1e+00, 1e+00]\n",
      "  Bounds range     [1e+00, 1e+00]\n",
      "  RHS range        [1e+00, 1e+01]\n",
      "Presolve removed 53570 rows and 53611 columns (presolve time = 5s) ...\n",
      "Presolve removed 53570 rows and 53611 columns\n",
      "Presolve time: 6.33s\n",
      "Presolved: 74331 rows, 74099 columns, 664753 nonzeros\n",
      "Variable types: 10 continuous, 74089 integer (74025 binary)\n",
      "\n",
      "Deterministic concurrent LP optimizer: primal and dual simplex\n",
      "Showing first log only...\n",
      "\n",
      "\n",
      "Root simplex log...\n",
      "\n",
      "Iteration    Objective       Primal Inf.    Dual Inf.      Time\n",
      "       0    2.6000000e+01   1.244374e+02   4.862342e+08      8s\n",
      "    2032    5.0000000e+01   0.000000e+00   0.000000e+00      8s\n",
      "    2032    5.0000000e+01   0.000000e+00   0.000000e+00      8s\n",
      "Concurrent spin time: 0.00s\n",
      "\n",
      "Solved with primal simplex\n",
      "\n",
      "Root relaxation: objective 5.000000e+01, 2032 iterations, 1.19 seconds\n",
      "\n",
      "    Nodes    |    Current Node    |     Objective Bounds      |     Work\n",
      " Expl Unexpl |  Obj  Depth IntInf | Incumbent    BestBd   Gap | It/Node Time\n",
      "\n",
      "     0     0   50.00000    0  331          -   50.00000      -     -   24s\n",
      "H    0     0                      50.0000000   50.00000  0.00%     -   24s\n",
      "\n",
      "Explored 1 nodes (15093 simplex iterations) in 24.64 seconds\n",
      "Thread count was 8 (of 8 available processors)\n",
      "\n",
      "Solution count 1: 50 \n",
      "\n",
      "Optimal solution found (tolerance 1.00e-02)\n",
      "Best objective 5.000000000000e+01, best bound 5.000000000000e+01, gap 0.0000%\n"
     ]
    },
    {
     "data": {
      "text/plain": [
       "(1.0, 0.975)"
      ]
     },
     "execution_count": 8,
     "metadata": {},
     "output_type": "execute_result"
    }
   ],
   "source": [
    "kNN = kNNClassifier(gurobi_MIPGap=0.01, gurobi_TimeLimit=None, gurobi_LogToConsole=1)\n",
    "kNN.fit(X_train,y_train)\n",
    "kNN.score(X_train,y_train), kNN.score(X_test,y_test)"
   ]
  },
  {
   "cell_type": "code",
   "execution_count": 9,
   "metadata": {},
   "outputs": [
    {
     "data": {
      "text/plain": [
       "{0: 1.0,\n",
       " 1: 0.0,\n",
       " 2: 0.0,\n",
       " 3: 0.0,\n",
       " 4: 0.0,\n",
       " 5: 0.0,\n",
       " 6: 0.0,\n",
       " 7: 0.0,\n",
       " 8: 0.0,\n",
       " 9: 0.0}"
      ]
     },
     "execution_count": 9,
     "metadata": {},
     "output_type": "execute_result"
    }
   ],
   "source": [
    "kNN.weights_"
   ]
  }
 ],
 "metadata": {
  "kernelspec": {
   "display_name": "Python 3",
   "language": "python",
   "name": "python3"
  },
  "language_info": {
   "codemirror_mode": {
    "name": "ipython",
    "version": 3
   },
   "file_extension": ".py",
   "mimetype": "text/x-python",
   "name": "python",
   "nbconvert_exporter": "python",
   "pygments_lexer": "ipython3",
   "version": "3.7.4"
  }
 },
 "nbformat": 4,
 "nbformat_minor": 4
}
