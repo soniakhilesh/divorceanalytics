{
 "cells": [
  {
   "cell_type": "code",
   "execution_count": 8,
   "metadata": {},
   "outputs": [],
   "source": [
    "import pandas as pd\n",
    "from sklearn.datasets import load_iris, load_wine, load_breast_cancer\n",
    "from sklearn.model_selection import train_test_split\n",
    "from sklearn.preprocessing import MinMaxScaler\n",
    "from kNN import kNNClassifier\n",
    "from kNNIP import kNNClassifierIP\n",
    "from sklearn.neighbors import KNeighborsClassifier"
   ]
  },
  {
   "cell_type": "code",
   "execution_count": 2,
   "metadata": {},
   "outputs": [
    {
     "name": "stdout",
     "output_type": "stream",
     "text": [
      "(N, p) = (25, 4)\n"
     ]
    }
   ],
   "source": [
    "# Load dataset\n",
    "X, y = load_iris(return_X_y=True, as_frame=True) # Change dataset here\n",
    "X_train, X_test, y_train, y_test = train_test_split(X, y, train_size=25, random_state=0)\n",
    "print(\"(N, p) =\", X_train.shape)\n",
    "\n",
    "# Apply scaling to X_train and X_test\n",
    "scaler = MinMaxScaler()\n",
    "index = X_train.index\n",
    "columns = X_train.columns\n",
    "data = scaler.fit_transform(X_train)\n",
    "X_train = pd.DataFrame(data=data, index=index, columns=columns)\n",
    "index = X_test.index\n",
    "data = scaler.transform(X_test)\n",
    "X_test = pd.DataFrame(data=data, index=index, columns=columns)"
   ]
  },
  {
   "cell_type": "code",
   "execution_count": 4,
   "metadata": {},
   "outputs": [
    {
     "data": {
      "text/plain": [
       "(0.96, 0.896)"
      ]
     },
     "execution_count": 4,
     "metadata": {},
     "output_type": "execute_result"
    }
   ],
   "source": [
    "sklearn_kNN = KNeighborsClassifier()\n",
    "sklearn_kNN.fit(X_train,y_train)\n",
    "sklearn_kNN.score(X_train,y_train), sklearn_kNN.score(X_test,y_test)"
   ]
  },
  {
   "cell_type": "code",
   "execution_count": 5,
   "metadata": {},
   "outputs": [
    {
     "name": "stdout",
     "output_type": "stream",
     "text": [
      "Academic license - for non-commercial use only\n",
      "Parameter LogToConsole unchanged\n",
      "   Value: 1  Min: 0  Max: 1  Default: 1\n",
      "Changed value of parameter MIPGap to 0.01\n",
      "   Prev: 0.0001  Min: 0.0  Max: 1e+100  Default: 0.0001\n",
      "Warning for adding constraints: zero or small (< 1e-13) coefficients, ignored\n",
      "Optimize a model with 16601 rows, 16404 columns and 89526 nonzeros\n",
      "Variable types: 79 continuous, 16325 integer (16325 binary)\n",
      "Coefficient statistics:\n",
      "  Matrix range     [3e-04, 2e+01]\n",
      "  Objective range  [1e+00, 1e+00]\n",
      "  Bounds range     [1e+00, 1e+00]\n",
      "  RHS range        [1e+00, 5e+00]\n",
      "Presolve removed 4389 rows and 4408 columns\n",
      "Presolve time: 0.39s\n",
      "Presolved: 12212 rows, 11996 columns, 67213 nonzeros\n",
      "Variable types: 4 continuous, 11992 integer (11907 binary)\n",
      "\n",
      "Root relaxation: objective 2.500000e+01, 1045 iterations, 0.09 seconds\n",
      "\n",
      "    Nodes    |    Current Node    |     Objective Bounds      |     Work\n",
      " Expl Unexpl |  Obj  Depth IntInf | Incumbent    BestBd   Gap | It/Node Time\n",
      "\n",
      "     0     0   25.00000    0   37          -   25.00000      -     -    0s\n",
      "     0     0   25.00000    0   43          -   25.00000      -     -    4s\n",
      "     0     0   25.00000    0  335          -   25.00000      -     -    6s\n",
      "     0     0   25.00000    0  265          -   25.00000      -     -    6s\n",
      "     0     0   25.00000    0  289          -   25.00000      -     -    6s\n",
      "     0     0   25.00000    0  242          -   25.00000      -     -    8s\n",
      "     0     0   25.00000    0  173          -   25.00000      -     -    9s\n",
      "     0     0   25.00000    0  142          -   25.00000      -     -    9s\n",
      "     0     0   25.00000    0  156          -   25.00000      -     -   10s\n",
      "     0     0   25.00000    0  130          -   25.00000      -     -   10s\n",
      "     0     0   25.00000    0  138          -   25.00000      -     -   10s\n",
      "     0     0   25.00000    0  129          -   25.00000      -     -   10s\n",
      "     0     0   25.00000    0  127          -   25.00000      -     -   10s\n",
      "     0     0   25.00000    0  124          -   25.00000      -     -   11s\n",
      "     0     0   25.00000    0  121          -   25.00000      -     -   11s\n",
      "     0     0   25.00000    0  154          -   25.00000      -     -   24s\n",
      "     0     0   25.00000    0  201          -   25.00000      -     -   24s\n",
      "     0     0   25.00000    0  193          -   25.00000      -     -   24s\n",
      "H    0     0                      21.0000000   25.00000  19.0%     -   24s\n",
      "     0     0   25.00000    0  153   21.00000   25.00000  19.0%     -   25s\n",
      "     0     0   25.00000    0   65   21.00000   25.00000  19.0%     -   25s\n",
      "     0     2   25.00000    0   34   21.00000   25.00000  19.0%     -   26s\n",
      "H  109    77                      22.0000000   25.00000  13.6%  74.6   29s\n",
      "*  157    63              49      23.0000000   25.00000  8.70%  60.3   29s\n",
      "   228    88   25.00000   37   83   23.00000   25.00000  8.70%  55.2   30s\n",
      "H  596    15                      25.0000000   25.00000  0.00%  36.6   32s\n",
      "\n",
      "Cutting planes:\n",
      "  Gomory: 23\n",
      "  Cover: 223\n",
      "  Implied bound: 11\n",
      "  Clique: 1871\n",
      "  MIR: 75\n",
      "  StrongCG: 22\n",
      "  Inf proof: 1\n",
      "  Zero half: 2\n",
      "\n",
      "Explored 699 nodes (47677 simplex iterations) in 32.06 seconds\n",
      "Thread count was 8 (of 8 available processors)\n",
      "\n",
      "Solution count 4: 25 23 22 21 \n",
      "\n",
      "Optimal solution found (tolerance 1.00e-02)\n",
      "Best objective 2.500000000000e+01, best bound 2.500000000000e+01, gap 0.0000%\n"
     ]
    },
    {
     "data": {
      "text/plain": [
       "(0.96, 0.904)"
      ]
     },
     "execution_count": 5,
     "metadata": {},
     "output_type": "execute_result"
    }
   ],
   "source": [
    "kNN = kNNClassifier(gurobi_MIPGap=0.01, gurobi_TimeLimit=None, gurobi_LogToConsole=1)\n",
    "kNN.fit(X_train,y_train)\n",
    "kNN.score(X_train,y_train), kNN.score(X_test,y_test)"
   ]
  },
  {
   "cell_type": "code",
   "execution_count": 6,
   "metadata": {},
   "outputs": [
    {
     "data": {
      "text/plain": [
       "{0: 0.11892622645548609,\n",
       " 1: 0.010557091873092048,\n",
       " 2: 0.8705166816714218,\n",
       " 3: 0.0}"
      ]
     },
     "execution_count": 6,
     "metadata": {},
     "output_type": "execute_result"
    }
   ],
   "source": [
    "kNN.weights_"
   ]
  },
  {
   "cell_type": "code",
   "execution_count": 17,
   "metadata": {},
   "outputs": [
    {
     "name": "stdout",
     "output_type": "stream",
     "text": [
      "Parameter LogToConsole unchanged\n",
      "   Value: 1  Min: 0  Max: 1  Default: 1\n",
      "Changed value of parameter MIPGap to 0.01\n",
      "   Prev: 0.0001  Min: 0.0  Max: 1e+100  Default: 0.0001\n",
      "Optimize a model with 2526 rows, 3129 columns and 8129 nonzeros\n",
      "Variable types: 2504 continuous, 625 integer (625 binary)\n",
      "Coefficient statistics:\n",
      "  Matrix range     [1e+00, 1e+00]\n",
      "  Objective range  [3e-06, 1e+100]\n",
      "  Bounds range     [1e+00, 1e+00]\n",
      "  RHS range        [1e+00, 5e+00]\n",
      "Warning: Model contains large objective coefficients\n",
      "         Consider reformulating model or setting NumericFocus parameter\n",
      "         to avoid numerical issues.\n",
      "Presolve removed 226 rows and 226 columns\n",
      "Presolve time: 0.01s\n",
      "Presolved: 2300 rows, 2903 columns, 7451 nonzeros\n",
      "Variable types: 2278 continuous, 625 integer (625 binary)\n",
      "\n",
      "Root relaxation: objective 2.308322e-03, 749 iterations, 0.02 seconds\n",
      "\n",
      "    Nodes    |    Current Node    |     Objective Bounds      |     Work\n",
      " Expl Unexpl |  Obj  Depth IntInf | Incumbent    BestBd   Gap | It/Node Time\n",
      "\n",
      "     0     0    0.00231    0  183          -    0.00231      -     -    0s\n",
      "H    0     0                      30.0536733    0.00231   100%     -    0s\n",
      "H    0     0                       0.0173800    0.00231  86.7%     -    0s\n",
      "H    0     0                       0.0160219    0.00231  85.6%     -    0s\n",
      "     0     0    0.00239    0  180    0.01602    0.00239  85.1%     -    0s\n",
      "     0     0    0.00239    0  183    0.01602    0.00239  85.1%     -    0s\n",
      "H    0     0                       0.0131756    0.00239  81.9%     -    0s\n",
      "     0     0    0.00282    0  181    0.01318    0.00282  78.6%     -    0s\n",
      "     0     0    0.00294    0  181    0.01318    0.00294  77.7%     -    0s\n",
      "H    0     0                       0.0093587    0.00294  68.6%     -    0s\n",
      "     0     0    0.00310    0  182    0.00936    0.00310  66.9%     -    0s\n",
      "     0     0    0.00310    0  182    0.00936    0.00310  66.9%     -    0s\n",
      "     0     0    0.00311    0  182    0.00936    0.00311  66.8%     -    0s\n",
      "     0     0    0.00311    0  182    0.00936    0.00311  66.8%     -    0s\n",
      "     0     0    0.00311    0  182    0.00936    0.00311  66.8%     -    0s\n",
      "     0     0    0.00311    0  180    0.00936    0.00311  66.8%     -    0s\n",
      "     0     2    0.00311    0  180    0.00936    0.00311  66.8%     -    0s\n",
      "H 1059   907                       0.0080384    0.00464  42.2%  14.1    0s\n",
      "H 1091   891                       0.0071982    0.00470  34.7%  15.5    0s\n",
      "H 1093   847                       0.0070713    0.00470  33.6%  15.5    0s\n",
      "H 1139   833                       0.0068656    0.00474  31.0%  15.6    0s\n",
      "* 1798   933              36       0.0068176    0.00504  26.0%  14.2    0s\n",
      "H 2175   864                       0.0067112    0.00525  21.8%  14.1    0s\n",
      "* 2718   597              39       0.0063957    0.00544  15.0%  13.8    1s\n",
      "H 3164   496                       0.0063855    0.00556  12.9%  13.9    1s\n",
      "H 3205   499                       0.0063717    0.00556  12.7%  13.9    1s\n",
      "\n",
      "Cutting planes:\n",
      "  Gomory: 15\n",
      "  MIR: 3\n",
      "  Flow cover: 4\n",
      "  Inf proof: 9\n",
      "\n",
      "Explored 4972 nodes (74602 simplex iterations) in 1.55 seconds\n",
      "Thread count was 8 (of 8 available processors)\n",
      "\n",
      "Solution count 10: 0.00637174 0.00638546 0.00639575 ... 0.00935871\n",
      "\n",
      "Optimal solution found (tolerance 1.00e-02)\n",
      "Best objective 6.371742112483e-03, best bound 6.371742112483e-03, gap 0.0000%\n"
     ]
    },
    {
     "data": {
      "text/plain": [
       "(1.0, 0.92)"
      ]
     },
     "execution_count": 17,
     "metadata": {},
     "output_type": "execute_result"
    }
   ],
   "source": [
    "kNN = kNNClassifierIP(lambda_=0.01,gurobi_MIPGap=0.01, gurobi_TimeLimit=None, gurobi_LogToConsole=1)\n",
    "kNN.fit(X_train,y_train)\n",
    "kNN.score(X_train,y_train), kNN.score(X_test,y_test)\n"
   ]
  },
  {
   "cell_type": "code",
   "execution_count": 18,
   "metadata": {},
   "outputs": [
    {
     "data": {
      "text/plain": [
       "{0: 0.0, 1: 0.0, 2: 1.0, 3: 0.0}"
      ]
     },
     "execution_count": 18,
     "metadata": {},
     "output_type": "execute_result"
    }
   ],
   "source": [
    "kNN.weights_"
   ]
  },
  {
   "cell_type": "code",
   "execution_count": null,
   "metadata": {},
   "outputs": [],
   "source": []
  }
 ],
 "metadata": {
  "kernelspec": {
   "display_name": "Python 3",
   "language": "python",
   "name": "python3"
  },
  "language_info": {
   "codemirror_mode": {
    "name": "ipython",
    "version": 3
   },
   "file_extension": ".py",
   "mimetype": "text/x-python",
   "name": "python",
   "nbconvert_exporter": "python",
   "pygments_lexer": "ipython3",
   "version": "3.7.4"
  }
 },
 "nbformat": 4,
 "nbformat_minor": 4
}
