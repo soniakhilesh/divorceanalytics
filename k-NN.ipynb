{
 "cells": [
  {
   "cell_type": "code",
   "execution_count": 1,
   "metadata": {},
   "outputs": [],
   "source": [
    "import pandas as pd\n",
    "from sklearn.datasets import load_iris, load_wine, load_breast_cancer\n",
    "from sklearn.model_selection import train_test_split\n",
    "from sklearn.preprocessing import MinMaxScaler\n",
    "from kNN import kNNClassifier\n",
    "from sklearn.neighbors import KNeighborsClassifier"
   ]
  },
  {
   "cell_type": "code",
   "execution_count": 2,
   "metadata": {},
   "outputs": [
    {
     "name": "stdout",
     "output_type": "stream",
     "text": [
      "(N, p) = (25, 4)\n"
     ]
    }
   ],
   "source": [
    "# Load dataset\n",
    "X, y = load_iris(return_X_y=True, as_frame=True) # Change dataset here\n",
    "X_train, X_test, y_train, y_test = train_test_split(X, y, train_size=25, random_state=0)\n",
    "print(\"(N, p) =\", X_train.shape)\n",
    "\n",
    "# Apply scaling to X_train and X_test\n",
    "scaler = MinMaxScaler()\n",
    "index = X_train.index\n",
    "columns = X_train.columns\n",
    "data = scaler.fit_transform(X_train)\n",
    "X_train = pd.DataFrame(data=data, index=index, columns=columns)\n",
    "index = X_test.index\n",
    "data = scaler.transform(X_test)\n",
    "X_test = pd.DataFrame(data=data, index=index, columns=columns)"
   ]
  },
  {
   "cell_type": "code",
   "execution_count": 3,
   "metadata": {},
   "outputs": [
    {
     "data": {
      "text/plain": [
       "(0.96, 0.896)"
      ]
     },
     "execution_count": 3,
     "metadata": {},
     "output_type": "execute_result"
    }
   ],
   "source": [
    "sklearn_kNN = KNeighborsClassifier()\n",
    "sklearn_kNN.fit(X_train,y_train)\n",
    "sklearn_kNN.score(X_train,y_train), sklearn_kNN.score(X_test,y_test)"
   ]
  },
  {
   "cell_type": "code",
   "execution_count": 4,
   "metadata": {},
   "outputs": [
    {
     "name": "stdout",
     "output_type": "stream",
     "text": [
      "Using license file /home/zach/gurobi.lic\n",
      "Academic license - for non-commercial use only\n",
      "Parameter LogToConsole unchanged\n",
      "   Value: 1  Min: 0  Max: 1  Default: 1\n",
      "Changed value of parameter MIPGap to 0.01\n",
      "   Prev: 0.0001  Min: 0.0  Max: inf  Default: 0.0001\n",
      "Warning for adding constraints: zero or small (< 1e-13) coefficients, ignored\n",
      "Gurobi Optimizer version 9.0.1 build v9.0.1rc0 (linux64)\n",
      "Optimize a model with 16601 rows, 16404 columns and 89526 nonzeros\n",
      "Model fingerprint: 0x3ec7c4e3\n",
      "Variable types: 79 continuous, 16325 integer (16325 binary)\n",
      "Coefficient statistics:\n",
      "  Matrix range     [3e-04, 2e+01]\n",
      "  Objective range  [1e+00, 1e+00]\n",
      "  Bounds range     [1e+00, 1e+00]\n",
      "  RHS range        [1e+00, 5e+00]\n",
      "Presolve removed 4389 rows and 4408 columns\n",
      "Presolve time: 0.44s\n",
      "Presolved: 12212 rows, 11996 columns, 67213 nonzeros\n",
      "Variable types: 4 continuous, 11992 integer (11907 binary)\n",
      "\n",
      "Root relaxation: objective 2.500000e+01, 1090 iterations, 0.13 seconds\n",
      "\n",
      "    Nodes    |    Current Node    |     Objective Bounds      |     Work\n",
      " Expl Unexpl |  Obj  Depth IntInf | Incumbent    BestBd   Gap | It/Node Time\n",
      "\n",
      "     0     0   25.00000    0  128          -   25.00000      -     -    1s\n",
      "     0     0   25.00000    0  158          -   25.00000      -     -    7s\n",
      "     0     0   25.00000    0   42          -   25.00000      -     -   13s\n",
      "     0     0   25.00000    0  201          -   25.00000      -     -   13s\n",
      "     0     0   25.00000    0  104          -   25.00000      -     -   13s\n",
      "     0     0   25.00000    0   18          -   25.00000      -     -   14s\n",
      "     0     0   25.00000    0   19          -   25.00000      -     -   14s\n",
      "H    0     0                      20.0000000   25.00000  25.0%     -   14s\n",
      "H    0     0                      25.0000000   25.00000  0.00%     -   14s\n",
      "     0     0   25.00000    0   12   25.00000   25.00000  0.00%     -   14s\n",
      "\n",
      "Cutting planes:\n",
      "  Gomory: 18\n",
      "  Cover: 58\n",
      "  Implied bound: 9\n",
      "  Clique: 630\n",
      "  MIR: 39\n",
      "  StrongCG: 7\n",
      "  Zero half: 1\n",
      "  RLT: 10\n",
      "  Relax-and-lift: 18\n",
      "\n",
      "Explored 1 nodes (10383 simplex iterations) in 14.52 seconds\n",
      "Thread count was 8 (of 8 available processors)\n",
      "\n",
      "Solution count 2: 25 20 \n",
      "\n",
      "Optimal solution found (tolerance 1.00e-02)\n",
      "Best objective 2.500000000000e+01, best bound 2.500000000000e+01, gap 0.0000%\n"
     ]
    },
    {
     "data": {
      "text/plain": [
       "(0.96, 0.928)"
      ]
     },
     "execution_count": 4,
     "metadata": {},
     "output_type": "execute_result"
    }
   ],
   "source": [
    "kNN = kNNClassifier(gurobi_MIPGap=0.01, gurobi_TimeLimit=None, gurobi_LogToConsole=1)\n",
    "kNN.fit(X_train,y_train)\n",
    "kNN.score(X_train,y_train), kNN.score(X_test,y_test)"
   ]
  },
  {
   "cell_type": "code",
   "execution_count": 5,
   "metadata": {},
   "outputs": [
    {
     "data": {
      "text/plain": [
       "{0: 0.09235448240362243, 1: 0.219992364691242, 2: 0.6876531529051356, 3: 0.0}"
      ]
     },
     "execution_count": 5,
     "metadata": {},
     "output_type": "execute_result"
    }
   ],
   "source": [
    "kNN.weights_"
   ]
  },
  {
   "cell_type": "code",
   "execution_count": null,
   "metadata": {},
   "outputs": [],
   "source": []
  }
 ],
 "metadata": {
  "kernelspec": {
   "display_name": "Python 3",
   "language": "python",
   "name": "python3"
  },
  "language_info": {
   "codemirror_mode": {
    "name": "ipython",
    "version": 3
   },
   "file_extension": ".py",
   "mimetype": "text/x-python",
   "name": "python",
   "nbconvert_exporter": "python",
   "pygments_lexer": "ipython3",
   "version": "3.7.4"
  }
 },
 "nbformat": 4,
 "nbformat_minor": 4
}
