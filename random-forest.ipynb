{
 "cells": [
  {
   "cell_type": "code",
   "execution_count": 27,
   "metadata": {},
   "outputs": [],
   "source": [
    "import numpy as np\n",
    "import pandas as pd\n",
    "from sklearn.model_selection import train_test_split, KFold, GridSearchCV\n",
    "from sklearn.preprocessing import MinMaxScaler\n",
    "from sklearn.ensemble import RandomForestClassifier\n",
    "from sklearn.metrics import accuracy_score, roc_curve, roc_auc_score, auc"
   ]
  },
  {
   "cell_type": "code",
   "execution_count": 29,
   "metadata": {},
   "outputs": [],
   "source": [
    "df = pd.read_csv('divorce.csv', delimiter=';')\n",
    "y = df.Class\n",
    "X = df.drop(columns='Class')\n",
    "\n",
    "X_train, X_test, y_train, y_test = train_test_split(X, y, random_state=0)"
   ]
  },
  {
   "cell_type": "code",
   "execution_count": 34,
   "metadata": {},
   "outputs": [
    {
     "name": "stdout",
     "output_type": "stream",
     "text": [
      "{'n_estimators': 12}\n",
      "1.0 0.9978354978354979\n",
      "Runtime: 0.9109563827514648 sec\n"
     ]
    }
   ],
   "source": [
    "# Random forest\n",
    "start_time = time.time()\n",
    "\n",
    "rf = RandomForestClassifier(max_depth=1) # Stumps only, feature bagging with sqrt(# features), bootstrap samples\n",
    "rf_clf = GridSearchCV(rf, {'n_estimators':[3,4,5,6,7,8,9,10,11,12,13,14,15]})\n",
    "rf_clf.fit(X_train, y_train)\n",
    "\n",
    "# Best number of trees\n",
    "print(rf_clf.best_params_)\n",
    "\n",
    "# Test/train set AUC\n",
    "y_train_pred_rf = rf_clf.predict_proba(X_train).T[1]\n",
    "y_test_pred_rf = rf_clf.predict_proba(X_test).T[1]\n",
    "rf_train_score = roc_auc_score(y_train, y_train_pred_rf)\n",
    "rf_test_score = roc_auc_score(y_test, y_test_pred_rf)\n",
    "print(rf_train_score, rf_test_score)\n",
    "\n",
    "# Print runtime\n",
    "print(\"Runtime: %s sec\" % (time.time() - start_time))"
   ]
  },
  {
   "cell_type": "code",
   "execution_count": 35,
   "metadata": {},
   "outputs": [
    {
     "data": {
      "text/plain": [
       "{'mean_fit_time': array([0.0074398 , 0.00663929, 0.00717387, 0.00795078, 0.00869312,\n",
       "        0.00964475, 0.01054444, 0.01141162, 0.01246724, 0.01319175,\n",
       "        0.01419678, 0.01515222, 0.01656451]),\n",
       " 'std_fit_time': array([0.00114986, 0.00051637, 0.00024644, 0.00015004, 0.0002457 ,\n",
       "        0.00014758, 0.00011206, 0.0002477 , 0.00012206, 0.00019933,\n",
       "        0.00013203, 0.00024432, 0.000487  ]),\n",
       " 'mean_score_time': array([0.00267515, 0.00211077, 0.00212426, 0.00197773, 0.0021431 ,\n",
       "        0.0021112 , 0.0023025 , 0.00232444, 0.00244908, 0.00263314,\n",
       "        0.00268579, 0.00247378, 0.00264745]),\n",
       " 'std_score_time': array([1.11893941e-04, 1.52367746e-04, 1.94140394e-04, 1.03286429e-04,\n",
       "        2.42704933e-04, 8.66207215e-05, 1.42260480e-04, 1.50332895e-04,\n",
       "        9.27765579e-05, 1.47889751e-04, 1.81461945e-04, 8.76870214e-05,\n",
       "        1.53651953e-04]),\n",
       " 'param_n_estimators': masked_array(data=[3, 4, 5, 6, 7, 8, 9, 10, 11, 12, 13, 14, 15],\n",
       "              mask=[False, False, False, False, False, False, False, False,\n",
       "                    False, False, False, False, False],\n",
       "        fill_value='?',\n",
       "             dtype=object),\n",
       " 'params': [{'n_estimators': 3},\n",
       "  {'n_estimators': 4},\n",
       "  {'n_estimators': 5},\n",
       "  {'n_estimators': 6},\n",
       "  {'n_estimators': 7},\n",
       "  {'n_estimators': 8},\n",
       "  {'n_estimators': 9},\n",
       "  {'n_estimators': 10},\n",
       "  {'n_estimators': 11},\n",
       "  {'n_estimators': 12},\n",
       "  {'n_estimators': 13},\n",
       "  {'n_estimators': 14},\n",
       "  {'n_estimators': 15}],\n",
       " 'split0_test_score': array([1.        , 1.        , 1.        , 1.        , 1.        ,\n",
       "        1.        , 0.96153846, 1.        , 1.        , 1.        ,\n",
       "        1.        , 1.        , 1.        ]),\n",
       " 'split1_test_score': array([1., 1., 1., 1., 1., 1., 1., 1., 1., 1., 1., 1., 1.]),\n",
       " 'split2_test_score': array([0.96, 0.96, 0.96, 0.96, 0.96, 0.96, 0.96, 0.96, 0.96, 0.96, 0.96,\n",
       "        0.96, 0.96]),\n",
       " 'split3_test_score': array([1., 1., 1., 1., 1., 1., 1., 1., 1., 1., 1., 1., 1.]),\n",
       " 'split4_test_score': array([0.92, 0.96, 0.96, 0.96, 0.96, 0.96, 0.96, 0.96, 0.96, 1.  , 0.96,\n",
       "        0.96, 0.96]),\n",
       " 'mean_test_score': array([0.976     , 0.984     , 0.984     , 0.984     , 0.984     ,\n",
       "        0.984     , 0.97630769, 0.984     , 0.984     , 0.992     ,\n",
       "        0.984     , 0.984     , 0.984     ]),\n",
       " 'std_test_score': array([0.032     , 0.01959592, 0.01959592, 0.01959592, 0.01959592,\n",
       "        0.01959592, 0.01935284, 0.01959592, 0.01959592, 0.016     ,\n",
       "        0.01959592, 0.01959592, 0.01959592]),\n",
       " 'rank_test_score': array([13,  2,  2,  2,  2,  2, 12,  2,  2,  1,  2,  2,  2], dtype=int32)}"
      ]
     },
     "execution_count": 35,
     "metadata": {},
     "output_type": "execute_result"
    }
   ],
   "source": [
    "# See where we start to get diminishing returns\n",
    "rf_clf.cv_results_"
   ]
  },
  {
   "cell_type": "code",
   "execution_count": 26,
   "metadata": {},
   "outputs": [
    {
     "name": "stdout",
     "output_type": "stream",
     "text": [
      "Atr1 0.004540000000000001\n",
      "Atr2 0.0036300000000000004\n",
      "Atr3 7.000000000000001e-05\n",
      "Atr4 0.010680000000000002\n",
      "Atr5 0.012650000000000002\n",
      "Atr6 0.0\n",
      "Atr7 0.0\n",
      "Atr8 0.012790000000000001\n",
      "Atr9 0.06355000000000001\n",
      "Atr10 0.0031900000000000006\n",
      "Atr11 0.08361000000000002\n",
      "Atr12 0.025630000000000003\n",
      "Atr13 0.0016500000000000002\n",
      "Atr14 0.026650000000000004\n",
      "Atr15 0.027320000000000004\n",
      "Atr16 0.056620000000000004\n",
      "Atr17 0.07939000000000002\n",
      "Atr18 0.10887000000000001\n",
      "Atr19 0.08167000000000002\n",
      "Atr20 0.06883000000000002\n",
      "Atr21 0.011670000000000002\n",
      "Atr22 0.0017800000000000001\n",
      "Atr23 0.0010200000000000003\n",
      "Atr24 0.0022300000000000006\n",
      "Atr25 0.028450000000000003\n",
      "Atr26 0.048380000000000006\n",
      "Atr27 0.012270000000000001\n",
      "Atr28 0.013390000000000003\n",
      "Atr29 0.021870000000000004\n",
      "Atr30 0.026840000000000003\n",
      "Atr31 0.0016900000000000003\n",
      "Atr32 0.0007400000000000001\n",
      "Atr33 0.0014400000000000003\n",
      "Atr34 0.0007100000000000001\n",
      "Atr35 0.0020400000000000006\n",
      "Atr36 0.021010000000000004\n",
      "Atr37 0.006850000000000001\n",
      "Atr38 0.011050000000000003\n",
      "Atr39 0.022370000000000004\n",
      "Atr40 0.07878000000000002\n",
      "Atr41 0.008780000000000001\n",
      "Atr42 2.0000000000000005e-05\n",
      "Atr43 0.0\n",
      "Atr44 0.004890000000000001\n",
      "Atr45 0.0\n",
      "Atr46 0.0\n",
      "Atr47 0.0\n",
      "Atr48 0.0\n",
      "Atr49 0.0\n",
      "Atr50 0.00013000000000000002\n",
      "Atr51 1.0000000000000003e-05\n",
      "Atr52 0.0\n",
      "Atr53 0.0\n",
      "Atr54 0.00025000000000000006\n",
      "Runtime: 112.93575644493103 sec\n"
     ]
    }
   ],
   "source": [
    "# Random forest\n",
    "start_time = time.time()\n",
    "\n",
    "rf = RandomForestClassifier(max_depth=1, n_estimators=100000) # Stumps only, feature bagging with sqrt(# features), bootstrap samples\n",
    "rf.fit(X,y)\n",
    "\n",
    "feat_imp = rf.feature_importances_\n",
    "for j in range(len(feat_imp)):\n",
    "    print('Atr{}'.format(j+1), feat_imp[j])\n",
    "\n",
    "# Print runtime\n",
    "print(\"Runtime: %s sec\" % (time.time() - start_time))"
   ]
  },
  {
   "cell_type": "code",
   "execution_count": null,
   "metadata": {},
   "outputs": [],
   "source": []
  }
 ],
 "metadata": {
  "kernelspec": {
   "display_name": "Python 3",
   "language": "python",
   "name": "python3"
  },
  "language_info": {
   "codemirror_mode": {
    "name": "ipython",
    "version": 3
   },
   "file_extension": ".py",
   "mimetype": "text/x-python",
   "name": "python",
   "nbconvert_exporter": "python",
   "pygments_lexer": "ipython3",
   "version": "3.7.4"
  }
 },
 "nbformat": 4,
 "nbformat_minor": 4
}
